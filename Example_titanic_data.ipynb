{
 "cells": [
  {
   "cell_type": "markdown",
   "metadata": {},
   "source": [
    "<h2>【利用例】不均衡性を解消したTitanicデータの特徴量削減</h2>\n",
    "<ul>\n",
    "    <li>Resampled_learn.pyをrslとしてインポート</li>\n",
    "    <li>生者より死者が多いデータを、生者の数に両方とも合わせる形でリサンプリング</li>\n",
    "    <li>再帰的特徴量削減により特徴量の数 vs. 精度のグラフ、及び特徴量ごとの重要度グラフを描画</li>\n",
    "    <li>再帰的特徴量削減により重要度が大きい４変数を抽出</li>\n",
    "</ul>"
   ]
  },
  {
   "cell_type": "markdown",
   "metadata": {},
   "source": [
    "Resampled_learnをrslとしてインポート<br>\n",
    "xgboostをestimatorとして利用<br>"
   ]
  },
  {
   "cell_type": "code",
   "execution_count": 1,
   "metadata": {},
   "outputs": [],
   "source": [
    "import numpy as np\n",
    "import pandas as pd\n",
    "import os\n",
    "import Resampled_learn as rsl\n",
    "import xgboost as xgb"
   ]
  },
  {
   "cell_type": "markdown",
   "metadata": {},
   "source": [
    "データの読み込み<br>\n",
    "（該当データは本リポジトリにアップしてあります）<br>"
   ]
  },
  {
   "cell_type": "code",
   "execution_count": 2,
   "metadata": {},
   "outputs": [],
   "source": [
    "os.chdir(\"C:/Users/zhaow/Dropbox/Datascience/titanic\")"
   ]
  },
  {
   "cell_type": "code",
   "execution_count": 3,
   "metadata": {},
   "outputs": [],
   "source": [
    "df_train = pd.read_csv('titanic_train_resample.csv')\n",
    "df_test = pd.read_csv('titanic_test_resample.csv')"
   ]
  },
  {
   "cell_type": "markdown",
   "metadata": {},
   "source": [
    "訓練用、テスト用データの生成<br>"
   ]
  },
  {
   "cell_type": "code",
   "execution_count": 4,
   "metadata": {},
   "outputs": [],
   "source": [
    "X_train = df_train.drop('PassengerId', axis = 1)\n",
    "X_train = X_train.drop('Survived', axis = 1)\n",
    "Y_train = df_train['Survived']\n",
    "X_test = df_test.drop('PassengerId', axis = 1)\n",
    "PassangerId = df_test['PassengerId']"
   ]
  },
  {
   "cell_type": "code",
   "execution_count": 5,
   "metadata": {},
   "outputs": [],
   "source": [
    "X_train = X_train.drop('Unnamed: 0', axis=1)\n",
    "X_test = X_test.drop('Unnamed: 0', axis=1)"
   ]
  },
  {
   "cell_type": "markdown",
   "metadata": {},
   "source": [
    "試しに生者と死者の数をそれぞれ集計<br>"
   ]
  },
  {
   "cell_type": "code",
   "execution_count": 6,
   "metadata": {},
   "outputs": [
    {
     "name": "stdout",
     "output_type": "stream",
     "text": [
      "Survived: 342 \n",
      "Died: 549\n"
     ]
    }
   ],
   "source": [
    "print('Survived: %d ' % Y_train.sum())\n",
    "print('Died: %d' % (len(Y_train) - Y_train.sum()))"
   ]
  },
  {
   "cell_type": "markdown",
   "metadata": {},
   "source": [
    "生きている人より死んでいる人のほうが多い不均衡データであることがわかる<br>"
   ]
  },
  {
   "cell_type": "markdown",
   "metadata": {},
   "source": [
    "特徴量を確認<br>"
   ]
  },
  {
   "cell_type": "code",
   "execution_count": 7,
   "metadata": {},
   "outputs": [
    {
     "data": {
      "text/html": [
       "<div>\n",
       "<style scoped>\n",
       "    .dataframe tbody tr th:only-of-type {\n",
       "        vertical-align: middle;\n",
       "    }\n",
       "\n",
       "    .dataframe tbody tr th {\n",
       "        vertical-align: top;\n",
       "    }\n",
       "\n",
       "    .dataframe thead th {\n",
       "        text-align: right;\n",
       "    }\n",
       "</style>\n",
       "<table border=\"1\" class=\"dataframe\">\n",
       "  <thead>\n",
       "    <tr style=\"text-align: right;\">\n",
       "      <th></th>\n",
       "      <th>0</th>\n",
       "    </tr>\n",
       "  </thead>\n",
       "  <tbody>\n",
       "    <tr>\n",
       "      <th>0</th>\n",
       "      <td>Age</td>\n",
       "    </tr>\n",
       "    <tr>\n",
       "      <th>1</th>\n",
       "      <td>SibSp</td>\n",
       "    </tr>\n",
       "    <tr>\n",
       "      <th>2</th>\n",
       "      <td>Parch</td>\n",
       "    </tr>\n",
       "    <tr>\n",
       "      <th>3</th>\n",
       "      <td>Fare</td>\n",
       "    </tr>\n",
       "    <tr>\n",
       "      <th>4</th>\n",
       "      <td>Sex_dummy</td>\n",
       "    </tr>\n",
       "    <tr>\n",
       "      <th>5</th>\n",
       "      <td>Embarked_Q</td>\n",
       "    </tr>\n",
       "    <tr>\n",
       "      <th>6</th>\n",
       "      <td>Embarked_C</td>\n",
       "    </tr>\n",
       "    <tr>\n",
       "      <th>7</th>\n",
       "      <td>Mrs.</td>\n",
       "    </tr>\n",
       "    <tr>\n",
       "      <th>8</th>\n",
       "      <td>Master.</td>\n",
       "    </tr>\n",
       "    <tr>\n",
       "      <th>9</th>\n",
       "      <td>Miss.</td>\n",
       "    </tr>\n",
       "    <tr>\n",
       "      <th>10</th>\n",
       "      <td>Family survive rate</td>\n",
       "    </tr>\n",
       "    <tr>\n",
       "      <th>11</th>\n",
       "      <td>C1</td>\n",
       "    </tr>\n",
       "    <tr>\n",
       "      <th>12</th>\n",
       "      <td>C2</td>\n",
       "    </tr>\n",
       "    <tr>\n",
       "      <th>13</th>\n",
       "      <td>Is Family Survive</td>\n",
       "    </tr>\n",
       "  </tbody>\n",
       "</table>\n",
       "</div>"
      ],
      "text/plain": [
       "                      0\n",
       "0                   Age\n",
       "1                 SibSp\n",
       "2                 Parch\n",
       "3                  Fare\n",
       "4             Sex_dummy\n",
       "5            Embarked_Q\n",
       "6            Embarked_C\n",
       "7                  Mrs.\n",
       "8               Master.\n",
       "9                 Miss.\n",
       "10  Family survive rate\n",
       "11                   C1\n",
       "12                   C2\n",
       "13    Is Family Survive"
      ]
     },
     "execution_count": 7,
     "metadata": {},
     "output_type": "execute_result"
    }
   ],
   "source": [
    "pd.DataFrame(X_train.columns)"
   ]
  },
  {
   "cell_type": "markdown",
   "metadata": {},
   "source": [
    "説明変数＝特徴量は全部で14個ある。"
   ]
  },
  {
   "cell_type": "markdown",
   "metadata": {},
   "source": [
    "<h2>Class Resampled_Prediction</h2>\n",
    "<p>データリサンプリング、標準化、予測器へのfitを一度に行いたい場合は、Resampled_Predictionを利用できる。</p>"
   ]
  },
  {
   "cell_type": "code",
   "execution_count": 9,
   "metadata": {},
   "outputs": [],
   "source": [
    "clf = rsl.Resampled_Prediction(estimator=xgb.XGBClassifier(),\n",
    "                               scaler=rsl.StandardScaler(),\n",
    "                               sampler=rsl.RandomUnderSampler(ratio='not minority'))"
   ]
  },
  {
   "cell_type": "markdown",
   "metadata": {},
   "source": [
    "fitメソッドの使い方は、その他sklearnベースの予測器と同じ。<br>"
   ]
  },
  {
   "cell_type": "code",
   "execution_count": 13,
   "metadata": {},
   "outputs": [],
   "source": [
    "clf.fit(X_train, Y_train)"
   ]
  },
  {
   "cell_type": "markdown",
   "metadata": {},
   "source": [
    "predict, predict_proba, scoreメソッドの使い方も、その他sklearnベースの予測器と同じ。<br>"
   ]
  },
  {
   "cell_type": "code",
   "execution_count": 14,
   "metadata": {},
   "outputs": [
    {
     "data": {
      "text/plain": [
       "array([0, 0, 0, 0, 1, 0, 1, 0, 1, 0, 0, 0, 1, 0, 1, 1, 0, 0, 1, 1, 1, 1, 1,\n",
       "       1, 1, 0, 1, 0, 1, 0, 0, 0, 1, 1, 1, 0, 1, 1, 0, 0, 0, 0, 0, 1, 1, 0,\n",
       "       0, 0, 1, 1, 1, 0, 1, 1, 0, 0, 0, 0, 0, 1, 0, 0, 0, 1, 1, 1, 1, 0, 1,\n",
       "       1, 1, 0, 1, 1, 1, 1, 0, 1, 0, 1, 1, 0, 0, 0, 0, 0, 1, 1, 1, 1, 1, 0,\n",
       "       1, 0, 0, 0, 1, 0, 1, 0, 1, 0, 0, 0, 1, 0, 0, 0, 0, 0, 0, 1, 1, 1, 1,\n",
       "       0, 0, 1, 1, 1, 1, 0, 1, 0, 0, 1, 0, 1, 0, 0, 0, 0, 0, 0, 0, 0, 0, 0,\n",
       "       1, 0, 0, 1, 1, 0, 0, 0, 0, 0, 0, 0, 1, 0, 0, 0, 0, 0, 1, 1, 0, 0, 1,\n",
       "       1, 1, 0, 0, 1, 0, 0, 1, 1, 0, 0, 0, 0, 0, 1, 1, 1, 1, 1, 0, 1, 1, 0,\n",
       "       1, 0, 1, 0, 0, 0, 0, 0, 1, 0, 1, 0, 1, 1, 0, 1, 1, 1, 1, 1, 0, 0, 1,\n",
       "       0, 1, 0, 0, 0, 0, 1, 0, 0, 1, 1, 1, 0, 1, 0, 1, 0, 1, 1, 0, 1, 0, 0,\n",
       "       0, 1, 0, 0, 1, 0, 1, 0, 1, 1, 1, 1, 1, 0, 1, 0, 1, 0, 1, 1, 1, 0, 1,\n",
       "       0, 0, 0, 0, 0, 1, 0, 0, 0, 1, 1, 0, 0, 0, 0, 1, 0, 1, 0, 1, 1, 0, 1,\n",
       "       0, 0, 0, 0, 1, 1, 1, 1, 1, 0, 0, 0, 0, 0, 1, 1, 0, 1, 0, 0, 1, 0, 1,\n",
       "       0, 0, 0, 0, 0, 1, 1, 1, 1, 1, 0, 0, 0, 0, 1, 1, 1, 1, 0, 0, 0, 0, 0,\n",
       "       0, 1, 1, 0, 1, 1, 0, 0, 1, 0, 0, 1, 0, 0, 0, 0, 0, 1, 0, 0, 0, 1, 1,\n",
       "       1, 0, 1, 0, 1, 1, 0, 0, 1, 1, 0, 1, 0, 0, 1, 0, 1, 1, 0, 1, 1, 0, 1,\n",
       "       1, 0, 0, 1, 0, 0, 1, 1, 0, 0, 0, 0, 0, 0, 1, 1, 0, 1, 0, 0, 0, 0, 1,\n",
       "       1, 1, 0, 0, 1, 0, 1, 0, 0, 1, 0, 1, 0, 0, 0, 0, 1, 1, 1, 1, 1, 1, 0,\n",
       "       1, 0, 0, 1], dtype=int64)"
      ]
     },
     "execution_count": 14,
     "metadata": {},
     "output_type": "execute_result"
    }
   ],
   "source": [
    "clf.predict(X_test)"
   ]
  },
  {
   "cell_type": "markdown",
   "metadata": {},
   "source": [
    "<h2>Class Resampled_Cross_Validation</h2>\n",
    "<p>データのリサンプリング、標準化、指定予測器で指定した回数だけ交差検証したい場合は、Resampled_Cross_Validationを利用できる。<br>\n",
    "ここでは。アンダーサンプリング（少ないデータに多い方のデータを落とす、imbalanced-learnライブラリーにあるRandomUnderSamplerを利用）で不均衡を解消して10回クロスバリデーションを行った例を示す。<br></p>"
   ]
  },
  {
   "cell_type": "code",
   "execution_count": 8,
   "metadata": {},
   "outputs": [],
   "source": [
    "rfe = rsl.Resampled_Cross_Validate(cv=10, verbose=True, estimator=xgb.XGBClassifier(n_jobs=-1),\n",
    "                                   sampler=rsl.RandomUnderSampler(ratio='not minority'))"
   ]
  },
  {
   "cell_type": "code",
   "execution_count": 9,
   "metadata": {},
   "outputs": [
    {
     "name": "stdout",
     "output_type": "stream",
     "text": [
      "Start Processing Resampled Validation: 10 splits\n",
      "Done: 1, Totaling: 10\n",
      "Done: 2, Totaling: 10\n",
      "Done: 3, Totaling: 10\n",
      "Done: 4, Totaling: 10\n",
      "Done: 5, Totaling: 10\n",
      "Done: 6, Totaling: 10\n",
      "Done: 7, Totaling: 10\n",
      "Done: 8, Totaling: 10\n",
      "Done: 9, Totaling: 10\n",
      "Done: 10, Totaling: 10\n"
     ]
    }
   ],
   "source": [
    "rfe.fit(X_train, Y_train)"
   ]
  },
  {
   "cell_type": "markdown",
   "metadata": {},
   "source": [
    "交差検証の各種精度指標を確認<br>"
   ]
  },
  {
   "cell_type": "code",
   "execution_count": 10,
   "metadata": {},
   "outputs": [
    {
     "name": "stdout",
     "output_type": "stream",
     "text": [
      "Accuracy: 0.821\n",
      "Precision Score: 0.761\n",
      "Recall Score: 0.784\n",
      "F1 Score: 0.769\n",
      "ROC AUC: 0.814\n",
      "log loss: 0.423\n"
     ]
    }
   ],
   "source": [
    "print('Accuracy: %.3f' % rfe.acc_.mean())\n",
    "print('Precision Score: %.3f' % rfe.pre_.mean())\n",
    "print('Recall Score: %.3f' % rfe.rec_.mean())\n",
    "print('F1 Score: %.3f' % rfe.f1_.mean())\n",
    "print('ROC AUC: %.3f' % rfe.roc_auc_.mean())\n",
    "print('log loss: %.3f' % rfe.logloss_.mean())"
   ]
  },
  {
   "cell_type": "markdown",
   "metadata": {},
   "source": [
    "<h2>Class Resampled_RFECV</h2>\n",
    "<p>不均衡性を解消し、再帰的特徴量削減によって特徴量削減を行うクラス<br>\n",
    "ここでは、10回の交差検証で各種精度指標を出力しつつ、合計14の特徴量を1ずつ削減した場合の出力を示す。<br></p>"
   ]
  },
  {
   "cell_type": "code",
   "execution_count": 16,
   "metadata": {},
   "outputs": [],
   "source": [
    "smt = rsl.RandomUnderSampler(ratio='not minority')"
   ]
  },
  {
   "cell_type": "code",
   "execution_count": 17,
   "metadata": {},
   "outputs": [],
   "source": [
    "rfecv = rsl.Resampled_RFECV(cv=10, n_steps=1,\n",
    "                            estimator=xgb.XGBClassifier(),\n",
    "                            sampler=smt)"
   ]
  },
  {
   "cell_type": "markdown",
   "metadata": {},
   "source": [
    "指定した削減数だけ、計算する（今回は1つずつ特徴量を削減するので14ステップ計算する）<br>"
   ]
  },
  {
   "cell_type": "code",
   "execution_count": 18,
   "metadata": {},
   "outputs": [
    {
     "name": "stderr",
     "output_type": "stream",
     "text": [
      "100%|██████████| 14/14 [00:04<00:00,  3.29it/s]\n"
     ]
    }
   ],
   "source": [
    "rfecv.fit(X_train, Y_train)"
   ]
  },
  {
   "cell_type": "markdown",
   "metadata": {},
   "source": [
    "ステップごとの評価指標の平均値は、mean_score_['指定指標']で取得できる。<br>\n",
    "指定可能な指標：<br>\n",
    "<ul>\n",
    "    <li>ACC: Accuracy（正解率）</li>\n",
    "    <li>PRE: Precision Score（適合率）</li>\n",
    "    <li>REC: Recall Score（再現率）</li>\n",
    "    <li>F1: f1 Score（f1値）</li>\n",
    "    <li>ROC_AUC*: ROC AUC（ROC曲線効果面積）</li>\n",
    "    <li>logloss**: Multi-class logarithmic loss</li> \n",
    "</ul>\n",
    "<p>*: 2値分類モジュールのみで使用可能<br>\n",
    "**: 多クラス分類モジュールのみで使用可能<br></p>"
   ]
  },
  {
   "cell_type": "code",
   "execution_count": 19,
   "metadata": {},
   "outputs": [
    {
     "data": {
      "text/plain": [
       "array([ 0.65793298,  0.66346385,  0.7028036 ,  0.70488707,  0.81256753,\n",
       "        0.81819827,  0.82049569,  0.82049597,  0.82050817,  0.81939706,\n",
       "        0.81485274,  0.82165702,  0.82948502,  0.81828652])"
      ]
     },
     "execution_count": 19,
     "metadata": {},
     "output_type": "execute_result"
    }
   ],
   "source": [
    "rfecv.mean_score_['ACC']"
   ]
  },
  {
   "cell_type": "markdown",
   "metadata": {},
   "source": [
    "ステップごとの評価指標の分散は、std_score_['指定指標']で取得できる。<br>"
   ]
  },
  {
   "cell_type": "code",
   "execution_count": 21,
   "metadata": {},
   "outputs": [
    {
     "data": {
      "text/plain": [
       "array([ 0.0614464 ,  0.05975612,  0.05961808,  0.04158604,  0.02075067,\n",
       "        0.0222253 ,  0.02752867,  0.02934144,  0.02291945,  0.02969226,\n",
       "        0.02176968,  0.02296732,  0.02501716,  0.0281805 ])"
      ]
     },
     "execution_count": 21,
     "metadata": {},
     "output_type": "execute_result"
    }
   ],
   "source": [
    "rfecv.std_score_['ACC']"
   ]
  },
  {
   "cell_type": "markdown",
   "metadata": {},
   "source": [
    "特徴量の数 vs. 精度指標のグラフの描画（影は分散の幅、fill_btw=Falseでoffにできる）<br>"
   ]
  },
  {
   "cell_type": "code",
   "execution_count": 14,
   "metadata": {},
   "outputs": [
    {
     "data": {
      "text/plain": [
       "<Figure size 432x288 with 0 Axes>"
      ]
     },
     "metadata": {},
     "output_type": "display_data"
    },
    {
     "data": {
      "image/png": "[encoded data removed]",
      "text/plain": [
       "<Figure size 576x360 with 1 Axes>"
      ]
     },
     "metadata": {},
     "output_type": "display_data"
    }
   ],
   "source": [
    "rfecv.draw_figure(X_train, Y_train, ymin=0.0, ymax=1.0, fill_btw=True)"
   ]
  },
  {
   "cell_type": "markdown",
   "metadata": {},
   "source": [
    "基本、特徴量を削減すればするほど精度は落ちるが、重要度が低い特徴量から落としているので、特徴量が多いうちは精度があまり変わらない。<br>\n",
    "すなわち、最初のうちに削減する特徴量は予測精度に大きく寄与しないことがわかる。<br>\n",
    "逆に、最後の方に削減する特徴量は予測精度に大きく寄与する重要な特徴量なので、精度の落ち込みが大きい。<br>\n",
    "このグラフを見ながら精度ロスを抑えながら必要のない特徴量を削減することが可能。<br>\n",
    "今回は5つの特徴量でそこそこ精度が出ていることがわかる。<br>"
   ]
  },
  {
   "cell_type": "markdown",
   "metadata": {},
   "source": [
    "特徴量を重要度順に描画したいときは、draw_barchartを利用できる。<br>"
   ]
  },
  {
   "cell_type": "code",
   "execution_count": 15,
   "metadata": {},
   "outputs": [
    {
     "data": {
      "text/plain": [
       "<Figure size 432x288 with 0 Axes>"
      ]
     },
     "metadata": {},
     "output_type": "display_data"
    },
    {
     "data": {
      "image/png": "[encoded data removed]",
      "text/plain": [
       "<Figure size 576x360 with 1 Axes>"
      ]
     },
     "metadata": {},
     "output_type": "display_data"
    }
   ],
   "source": [
    "rfecv.draw_barchart(X_train, Y_train)"
   ]
  },
  {
   "cell_type": "markdown",
   "metadata": {},
   "source": [
    "Titanicの生死を分ける重要な変数上位5つは：\n",
    "<ul>\n",
    "    <li>Age（年齢）</li>\n",
    "    <li>Fare（運賃）</li>\n",
    "    <li>SibSp（乗船していた兄弟もしくは配偶者の数）</li>\n",
    "    <li>Sex Dummy（性別のダミー）</li>\n",
    "    <li>Family Survive Rate（家族の生存率）</li>\n",
    "</ul>\n",
    "で有ることがわかる。<br>"
   ]
  },
  {
   "cell_type": "markdown",
   "metadata": {},
   "source": [
    "<h2>Class Resampled_RFE</h2>\n",
    "<p>不均衡性を解消しつつ、指定した特徴量の数まで再帰的特徴量削減を行いたい場合は、Resampled_RFEを利用する。<br>\n",
    "再帰的特徴量削減により、指定した数＝5つまで特徴量を落としてみる。<br></p>"
   ]
  },
  {
   "cell_type": "code",
   "execution_count": 16,
   "metadata": {},
   "outputs": [],
   "source": [
    "rfe = rsl.Resampled_RFE(cv=10, n_feature_select=5, n_steps=1,\n",
    "                        estimator=xgb.XGBClassifier(),\n",
    "                        sampler=rsl.RandomUnderSampler(ratio='not minority'))"
   ]
  },
  {
   "cell_type": "code",
   "execution_count": 17,
   "metadata": {},
   "outputs": [
    {
     "name": "stderr",
     "output_type": "stream",
     "text": [
      "100%|████████████████████████████████████████████████████████████████████████████████████| 9/9 [00:03<00:00,  2.81it/s]\n"
     ]
    }
   ],
   "source": [
    "rfe.fit(X_train, Y_train)"
   ]
  },
  {
   "cell_type": "markdown",
   "metadata": {},
   "source": [
    "選択された特徴量を確認は。support()メソッドを使用。<br>"
   ]
  },
  {
   "cell_type": "code",
   "execution_count": 23,
   "metadata": {},
   "outputs": [
    {
     "data": {
      "text/html": [
       "<div>\n",
       "<style scoped>\n",
       "    .dataframe tbody tr th:only-of-type {\n",
       "        vertical-align: middle;\n",
       "    }\n",
       "\n",
       "    .dataframe tbody tr th {\n",
       "        vertical-align: top;\n",
       "    }\n",
       "\n",
       "    .dataframe thead th {\n",
       "        text-align: right;\n",
       "    }\n",
       "</style>\n",
       "<table border=\"1\" class=\"dataframe\">\n",
       "  <thead>\n",
       "    <tr style=\"text-align: right;\">\n",
       "      <th></th>\n",
       "      <th>Var</th>\n",
       "      <th>Support</th>\n",
       "    </tr>\n",
       "  </thead>\n",
       "  <tbody>\n",
       "    <tr>\n",
       "      <th>0</th>\n",
       "      <td>Age</td>\n",
       "      <td>True</td>\n",
       "    </tr>\n",
       "    <tr>\n",
       "      <th>1</th>\n",
       "      <td>SibSp</td>\n",
       "      <td>True</td>\n",
       "    </tr>\n",
       "    <tr>\n",
       "      <th>2</th>\n",
       "      <td>Parch</td>\n",
       "      <td>False</td>\n",
       "    </tr>\n",
       "    <tr>\n",
       "      <th>3</th>\n",
       "      <td>Fare</td>\n",
       "      <td>True</td>\n",
       "    </tr>\n",
       "    <tr>\n",
       "      <th>4</th>\n",
       "      <td>Sex_dummy</td>\n",
       "      <td>True</td>\n",
       "    </tr>\n",
       "    <tr>\n",
       "      <th>5</th>\n",
       "      <td>Embarked_Q</td>\n",
       "      <td>False</td>\n",
       "    </tr>\n",
       "    <tr>\n",
       "      <th>6</th>\n",
       "      <td>Embarked_C</td>\n",
       "      <td>False</td>\n",
       "    </tr>\n",
       "    <tr>\n",
       "      <th>7</th>\n",
       "      <td>Mrs.</td>\n",
       "      <td>False</td>\n",
       "    </tr>\n",
       "    <tr>\n",
       "      <th>8</th>\n",
       "      <td>Master.</td>\n",
       "      <td>False</td>\n",
       "    </tr>\n",
       "    <tr>\n",
       "      <th>9</th>\n",
       "      <td>Miss.</td>\n",
       "      <td>False</td>\n",
       "    </tr>\n",
       "    <tr>\n",
       "      <th>10</th>\n",
       "      <td>Family survive rate</td>\n",
       "      <td>True</td>\n",
       "    </tr>\n",
       "    <tr>\n",
       "      <th>11</th>\n",
       "      <td>C1</td>\n",
       "      <td>False</td>\n",
       "    </tr>\n",
       "    <tr>\n",
       "      <th>12</th>\n",
       "      <td>C2</td>\n",
       "      <td>False</td>\n",
       "    </tr>\n",
       "    <tr>\n",
       "      <th>13</th>\n",
       "      <td>Is Family Survive</td>\n",
       "      <td>False</td>\n",
       "    </tr>\n",
       "  </tbody>\n",
       "</table>\n",
       "</div>"
      ],
      "text/plain": [
       "                    Var  Support\n",
       "0                   Age     True\n",
       "1                 SibSp     True\n",
       "2                 Parch    False\n",
       "3                  Fare     True\n",
       "4             Sex_dummy     True\n",
       "5            Embarked_Q    False\n",
       "6            Embarked_C    False\n",
       "7                  Mrs.    False\n",
       "8               Master.    False\n",
       "9                 Miss.    False\n",
       "10  Family survive rate     True\n",
       "11                   C1    False\n",
       "12                   C2    False\n",
       "13    Is Family Survive    False"
      ]
     },
     "execution_count": 23,
     "metadata": {},
     "output_type": "execute_result"
    }
   ],
   "source": [
    "rfe.support()"
   ]
  },
  {
   "cell_type": "markdown",
   "metadata": {},
   "source": [
    "必要な特徴量が選択されたことがわかる。<br>"
   ]
  }
 ],
 "metadata": {
  "kernelspec": {
   "display_name": "Python 3",
   "language": "python",
   "name": "python3"
  },
  "language_info": {
   "codemirror_mode": {
    "name": "ipython",
    "version": 3
   },
   "file_extension": ".py",
   "mimetype": "text/x-python",
   "name": "python",
   "nbconvert_exporter": "python",
   "pygments_lexer": "ipython3",
   "version": "3.6.3"
  }
 },
 "nbformat": 4,
 "nbformat_minor": 2
}
